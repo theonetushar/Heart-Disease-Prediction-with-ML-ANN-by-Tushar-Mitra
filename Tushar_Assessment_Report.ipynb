{
 "cells": [
  {
   "cell_type": "markdown",
   "metadata": {
    "id": "-zlxTm2ORb6A"
   },
   "source": [
    "# Submitted by Tushar Mitra, batch of 29th May"
   ]
  },
  {
   "cell_type": "markdown",
   "metadata": {
    "id": "j-QyJ6n41iSm"
   },
   "source": [
    "Q1. Mention some of the advantages of python?\n",
    "\n",
    "\n",
    "Ans. Python is an easy to understand and learn programming language and has a lot of libraries which we can import to perform endless tasks like machine learning, data science and implement AI models. It is also free to use and is open source which gives it a little advantage over other programming languages.\n"
   ]
  },
  {
   "cell_type": "markdown",
   "metadata": {
    "id": "XFAjc1_m2boo"
   },
   "source": [
    "Q2. What are local variables and global variables in Python?\n",
    "\n",
    "Ans. Local variables are variables that are declared within a particular scope, e.g. a function and are accessible only there. Global variables on the other hand are accessible throughout the program as they are declared outside any local scope.\n",
    "\n",
    "For Example:-\n",
    "\n",
    "\n",
    "```\n",
    "a=5\n",
    "\n",
    "def func:\n",
    "  b=7\n",
    "  return\n",
    "```\n",
    "\n",
    "Here a is a global variable and can be accessed anywhere, including in the function func, whereas b is a local variable and is local to the function func, i.e. it can be accessed only within func."
   ]
  },
  {
   "cell_type": "markdown",
   "metadata": {
    "id": "SDt2AyFf3SXT"
   },
   "source": [
    "Q3. What is Lambda Functions in Python?\n",
    "\n",
    "Ans. Lambda functions in Python are small, anonymous functions used to create simple, one-line functions without a formal function definition. They are also known as anonymous functions because they do not require a specific name like regular functions defined using the def keyword.\n",
    "\n",
    "For Example:-\n",
    "\n",
    "\n",
    "```\n",
    "c=lambda a,b : a+b\n",
    "c(6,3)\n",
    "```\n",
    "The output will be 9 as this lambda function adds the given two arguments.\n"
   ]
  },
  {
   "cell_type": "markdown",
   "metadata": {
    "id": "90sVRLHT3Sgy"
   },
   "source": [
    "Q4. What is a Negative Index in Python?\n",
    "\n",
    "Ans. Negative index is index from the last element of the object we are indexing instead of the first. So, for example if we have a list a = [10,22,13,44,65], then a[-1] will give us 65 and a[-2] will give us 44."
   ]
  },
  {
   "cell_type": "markdown",
   "metadata": {
    "id": "uN83xMF_4pmD"
   },
   "source": [
    "Q5. What is the difference between tuples and lists?\n",
    "\n",
    "Ans. Tuples and lists are data structures in Python used to store collections of items. The key difference between them lies in their mutability. Tuples are immutable, meaning their elements cannot be changed after creation, while lists are mutable, allowing for modification of elements. Tuples are defined using parentheses, and once created, their size and content remain fixed. Lists, defined with square brackets, can grow or shrink as needed. Tuples are memory-efficient and have slightly better performance due to their immutability. Lists are commonly used for dynamic collections that require modifications, while tuples are preferred for fixed collections with constant elements.\n",
    "\n",
    "Also, tuples are denoted by () and lists by []."
   ]
  },
  {
   "cell_type": "markdown",
   "metadata": {
    "id": "egYrfm8D5DPU"
   },
   "source": [
    "Q6. What is a dynamically typed language?\n",
    "\n",
    "A dynamically typed language is one where the data type of a variable is determined automatically when the program is run, rather than the programmer explicitly providing the data type of the variable they are declaring.\n",
    "\n",
    "Python is an example. e.g. if in Python we write a = \"abcd\", then the data type of a is automatically determined as string, rather than us having to state that."
   ]
  },
  {
   "cell_type": "markdown",
   "metadata": {
    "id": "dTRKdd1W5pE2"
   },
   "source": [
    "Q7. What are the data types available in python? Brief about it?\n",
    "\n",
    "In Python, there are several built-in data types that are used to represent different kinds of values. Here's a brief overview of the main data types available in Python:\n",
    "\n",
    "1.Numeric Types:\n",
    "\n",
    "int: Represents integer numbers without decimal points.\n",
    "float: Represents floating-point numbers with decimal points.\n",
    "complex: Represents complex numbers in the form of a + bj, where a and b are floats, and j is the imaginary unit.\n",
    "\n",
    "2.Boolean Type:\n",
    "\n",
    "bool: Represents boolean values True or False.\n",
    "\n",
    "3.Sequence Types:\n",
    "\n",
    "str: Represents strings of characters, which are immutable sequences of Unicode characters.\n",
    "list: Represents ordered, mutable sequences of elements. Lists are enclosed in square brackets [].\n",
    "tuple: Represents ordered, immutable sequences of elements. Tuples are enclosed in parentheses ().\n",
    "\n",
    "4.Set Types:\n",
    "\n",
    "set: Represents an unordered collection of unique elements. Sets are enclosed in curly braces {}.\n",
    "frozenset: Represents an immutable set, similar to a set but cannot be modified after creation. Frozensets are enclosed in curly braces {}.\n",
    "\n",
    "5.Mapping Type:\n",
    "\n",
    "dict: Represents associative arrays or dictionaries, consisting of key-value pairs. Dictionaries are enclosed in curly braces {} and have keys and corresponding values separated by colons :\n",
    "\n",
    "6.None Type:\n",
    "\n",
    "None: Represents the absence of a value, similar to null in other programming languages. It is often used to indicate that a variable has no value or has not been initialized."
   ]
  },
  {
   "cell_type": "markdown",
   "metadata": {
    "id": "UlPMcF_U7KNY"
   },
   "source": [
    "Q8. Why we have to use functions in Python? Explain with an example?\n",
    "\n",
    "Ans. We need to use functions for tasks that we have to perform again and again, so that we do not need to retype the same code every time but can call the corresponding function instead.\n",
    "\n",
    "e.g. the following function combines the two lists given to it and returns the resulting list."
   ]
  },
  {
   "cell_type": "code",
   "execution_count": 12,
   "metadata": {
    "colab": {
     "base_uri": "https://localhost:8080/"
    },
    "id": "mD6mSaTl6ARU",
    "outputId": "4e14ddcc-6d91-4d68-ba12-a7f6462f7f17"
   },
   "outputs": [
    {
     "data": {
      "text/plain": [
       "[1, 2, 3, 'a', 'b', 'c']"
      ]
     },
     "execution_count": 12,
     "metadata": {},
     "output_type": "execute_result"
    }
   ],
   "source": [
    "def combine_lists (a,b):\n",
    "  c=list()\n",
    "  for i in a:\n",
    "    c.append(i)\n",
    "  for i in b:\n",
    "    c.append(i)\n",
    "  return c\n",
    "\n",
    "a=[1,2,3]\n",
    "b=['a','b','c']\n",
    "c=combine_lists(a,b)\n",
    "c"
   ]
  },
  {
   "cell_type": "markdown",
   "metadata": {
    "id": "Bx7O9N_d8Ply"
   },
   "source": [
    "Q9. What is the difference between function and generators? Give an example?\n",
    "\n",
    "Ans. Generators are like functions but instead of return they use yield, which appends elements to the generator object which is then returned. We can use for loop to iterate through the returned generator object.\n",
    "\n",
    "They are advantageous over functions when the input is very large, as functions will take a lot of time and memory but generators will display the output in the console only, consuming much lesser time and memory. Functions will compute the entire thing before returning, but generators will go one element at a time.\n",
    "\n",
    "e.g.\n",
    "\n",
    "\n",
    "```\n",
    "def gen(n):\n",
    "  for i in range(n):\n",
    "    yield i\n",
    "```\n",
    "\n",
    "This generator will generate a sequence of the first n whole numbers\n",
    "\n"
   ]
  },
  {
   "cell_type": "code",
   "execution_count": 13,
   "metadata": {
    "colab": {
     "base_uri": "https://localhost:8080/"
    },
    "id": "kob8PMet-HIZ",
    "outputId": "55b81be9-6ac7-4c9c-d518-1516711f4d91"
   },
   "outputs": [
    {
     "name": "stdout",
     "output_type": "stream",
     "text": [
      "0\n",
      "1\n",
      "2\n",
      "3\n",
      "4\n"
     ]
    }
   ],
   "source": [
    "def gen(n):\n",
    "  for i in range(n):\n",
    "    yield i\n",
    "\n",
    "a = gen(5)\n",
    "for i in a:\n",
    "  print (i)"
   ]
  },
  {
   "cell_type": "markdown",
   "metadata": {
    "id": "JIg4fKxb-isH"
   },
   "source": [
    "Q10. Explain brief about conditional statements with an example?\n",
    "\n",
    "Ans. Conditional statements are statements that check whether or not the given condition is true, and based on whether it is true or false, it runs the corresponding block of code.\n",
    "\n",
    "e.g. in the following code the conditional statement checks the condition a < 5. As a is 10, so the condition is false, and it goes to the 'else' part and computes that. If it was true it would have computed the first block instead."
   ]
  },
  {
   "cell_type": "code",
   "execution_count": 14,
   "metadata": {
    "colab": {
     "base_uri": "https://localhost:8080/"
    },
    "id": "ogWLTbYZ_Nvx",
    "outputId": "e2b556a3-f4cf-415a-e2db-11542c4292ac"
   },
   "outputs": [
    {
     "name": "stdout",
     "output_type": "stream",
     "text": [
      "This prints if the statement is false\n"
     ]
    }
   ],
   "source": [
    "a = 10\n",
    "if (a<5):\n",
    "  print('This prints if the statement is true')\n",
    "else:\n",
    "  print('This prints if the statement is false')"
   ]
  },
  {
   "cell_type": "markdown",
   "metadata": {
    "id": "uJT272dG-jv8"
   },
   "source": [
    "Q11. Why we have to use exceptional handling in python? What are the keyword used to handle the error , give one example?\n",
    "\n",
    "Exception handling is an essential concept in Python and other programming languages because it allows developers to gracefully handle unexpected or exceptional situations that may occur during program execution. When an error or exceptional event occurs in Python, it can disrupt the normal flow of the program and cause it to terminate abruptly. Exception handling helps avoid such abrupt terminations and enables developers to take appropriate actions when errors occur, ensuring the program can recover or gracefully handle the situation.\n",
    "\n",
    "The main keywords used for exception handling in Python are:\n",
    "\n",
    "try: This block is used to enclose the code that might raise an exception or error.\n",
    "\n",
    "except: This block is used to handle the exception that is raised in the try block. It specifies what actions to take if a specific exception occurs.\n",
    "\n",
    "else: This block is executed if there is no exception in the try block.\n",
    "\n",
    "finally: This block is executed regardless of whether an exception occurs or not. It is often used for cleanup tasks that must be performed, such as closing files or releasing resourceswhile True:\n",
    "  try:\n",
    "    a=int(input('Dividend: '))\n",
    "    b=int(input('Divisor: '))\n",
    "    print(a,'/2',b,'=',a/b)\n",
    "    break\n",
    "  except:\n",
    "    print('Error. Try again')\n"
   ]
  },
  {
   "cell_type": "markdown",
   "metadata": {
    "id": "ftLgb4pOBmMa"
   },
   "source": [
    "Q12. Define class and objects with an example?\n",
    "\n",
    "Ans. Classes are user defined data types that can have their own members and functions, which can be used to keep related functions together and data together for a specific purpose. e.g. we can make a student class which can have student details as members, e.g. name and email, along with functions like register for a course, etc.\n",
    "\n",
    "Objects are instances of classes. Thus, if we define the student class described above and then make a variable of student type, then that variable is an object of student type.\n",
    "\n",
    "e.g."
   ]
  },
  {
   "cell_type": "code",
   "execution_count": 15,
   "metadata": {},
   "outputs": [
    {
     "name": "stdout",
     "output_type": "stream",
     "text": [
      "Tushar abc@xyz.com\n"
     ]
    }
   ],
   "source": [
    "class student:\n",
    "    def __init__(self, name, email):\n",
    "        self.name = name\n",
    "        self.email = email\n",
    "\n",
    "s = student('Tushar', 'abc@xyz.com')\n",
    "print(s.name, s.email)\n"
   ]
  },
  {
   "cell_type": "code",
   "execution_count": 16,
   "metadata": {
    "colab": {
     "base_uri": "https://localhost:8080/"
    },
    "id": "_tge23JADje_",
    "outputId": "88ec46e8-f11c-4285-f74c-2140494d1a96"
   },
   "outputs": [
    {
     "name": "stdout",
     "output_type": "stream",
     "text": [
      "Q13. Write a program to swap the two numbers in python?\n",
      "Before: a =  5 , b =  10\n",
      "After: a =  10 b =  5\n"
     ]
    }
   ],
   "source": [
    "print('Q13. Write a program to swap the two numbers in python?')\n",
    "\n",
    "a=5\n",
    "b=10\n",
    "print('Before: a = ',a,\", b = \",b)\n",
    "(a,b)=(b,a)\n",
    "print('After: a = ',a,'b = ',b)"
   ]
  },
  {
   "cell_type": "code",
   "execution_count": 17,
   "metadata": {
    "colab": {
     "base_uri": "https://localhost:8080/"
    },
    "id": "1ai3ICZNE8nB",
    "outputId": "a80ccd14-7c41-47bb-931c-f30035171307"
   },
   "outputs": [
    {
     "name": "stdout",
     "output_type": "stream",
     "text": [
      "Q14. Write a palindrome program in python\n",
      "False\n",
      "True\n",
      "True\n"
     ]
    }
   ],
   "source": [
    "print('Q14. Write a palindrome program in python')\n",
    "\n",
    "def palindrome (a):\n",
    "  l=len(a)\n",
    "  for i in range(l):\n",
    "    if a[i]!=a[l-i-1]:\n",
    "      return False\n",
    "  return True\n",
    "\n",
    "print(palindrome('abcabca'))\n",
    "print(palindrome('abcba'))\n",
    "print(palindrome('abbba'))"
   ]
  },
  {
   "cell_type": "markdown",
   "metadata": {
    "id": "8CwDOhP3DhA4"
   },
   "source": [
    "Q15. What is the use of numpy array over list?\n",
    "\n",
    "Ans. 1. Numpy takes lesser memory than lists.\n",
    "2. Numpy is more convenient. For e.g., we can directly add two numpy arrays while we have to use list comprehension in the case of lists\n",
    "3. Numpy is faster than lists"
   ]
  },
  {
   "cell_type": "markdown",
   "metadata": {
    "id": "xSDv53gDFqZl"
   },
   "source": [
    "Q16. Explain in brief about reshape in numpy with an example?\n",
    "\n",
    "Ans. Reshape changes the dimensions of the numpy array into the given dimensions. For example, the following code changes the given array from a 4x4 array to a 8x2 array."
   ]
  },
  {
   "cell_type": "code",
   "execution_count": 18,
   "metadata": {
    "colab": {
     "base_uri": "https://localhost:8080/"
    },
    "id": "MviopLVuGA2Y",
    "outputId": "574a2f71-27ac-434d-b3d1-ce8f5a554cee"
   },
   "outputs": [
    {
     "name": "stdout",
     "output_type": "stream",
     "text": [
      "[[ 1  2  3  4]\n",
      " [ 5  6  7  8]\n",
      " [ 9 10 11 12]\n",
      " [13 14 15 16]] \n",
      "\n",
      "[[ 1  2]\n",
      " [ 3  4]\n",
      " [ 5  6]\n",
      " [ 7  8]\n",
      " [ 9 10]\n",
      " [11 12]\n",
      " [13 14]\n",
      " [15 16]]\n"
     ]
    }
   ],
   "source": [
    "import numpy as np\n",
    "\n",
    "a = np.array([[1,2,3,4],[5,6,7,8],[9,10,11,12],[13,14,15,16]])\n",
    "\n",
    "print(a,'\\n')\n",
    "\n",
    "a=np.reshape(a,(8,2))\n",
    "print(a)"
   ]
  },
  {
   "cell_type": "markdown",
   "metadata": {
    "id": "e5sgheIpGbPY"
   },
   "source": [
    "Q17. What is the use of pandas explain in brief?\n",
    "\n",
    "Ans.Pandas is a popular Python library used for data manipulation and analysis. In short and simple words, Pandas is used for:\n",
    "\n",
    "1.Reading and writing data: It allows you to read data from various file formats like CSV, Excel, and SQL databases, and write data back to these formats.\n",
    "\n",
    "2.Data cleaning and preprocessing: It provides powerful tools for handling missing data, removing duplicates, and transforming data into a suitable format for analysis.\n",
    "\n",
    "3.Data manipulation: Pandas allows you to filter, sort, group, and aggregate data, enabling you to extract meaningful insights and summaries from large datasets.\n",
    "\n",
    "4.Data analysis and visualization: It supports various statistical operations and integrates well with other libraries like Matplotlib and Seaborn for data visualization.\n",
    "\n",
    "5.Time series data handling: Pandas has excellent support for working with time series data, making it valuable in finance, economics, and other time-dependent domains.\n",
    "\n"
   ]
  },
  {
   "cell_type": "markdown",
   "metadata": {
    "id": "5d7HcsZeHCfs"
   },
   "source": [
    "Q18. What do you mean by supervised machine learning and unsupervised machine learning? Explain in brief?\n",
    "\n",
    "Ans.Supervised Machine Learning: In supervised learning, the model is trained on labeled data, where the input data is paired with corresponding output labels. The goal is for the model to learn the mapping between inputs and outputs, so it can make accurate predictions on new, unseen data. Examples include image classification (where images are labeled with their corresponding categories) and predicting house prices (where features like size, location, etc., are used to predict the price).\n",
    "\n",
    "Unsupervised Machine Learning: In unsupervised learning, the model is trained on unlabeled data, and it tries to identify patterns or structures within the data without specific guidance. The goal is to discover hidden relationships or groupings in the data. Examples include clustering customer data to segment them into different groups based on behavior patterns or reducing the dimensionality of data for visualization or compression purposes."
   ]
  },
  {
   "cell_type": "markdown",
   "metadata": {
    "id": "_r2zGOkhIZtg"
   },
   "source": [
    "Q19. Differenciate between Decision tree and Random forest?\n",
    "\n",
    "Ans. A decision tree is the basic unit of a random forest.\n",
    "\n",
    "A decision tree is a structure in the form of one root nodes, several decision nodes and leaf nodes that contain the final output. We start from the root node, follow the branch that satisifies our condition and continue till we reach a leaf node, that contains the output.\n",
    "\n",
    "A random forest on the other hand is a collection of several decision trees."
   ]
  },
  {
   "cell_type": "markdown",
   "metadata": {
    "id": "Q4V3aloCJO_z"
   },
   "source": [
    "Q20. What do you mean by forward propagation and backward propagation in ANN?\n",
    "\n",
    "Ans. Forward propagation in an ANN is when we move forward, i.e. left to right, i.e. towards the direction of the output layer.\n",
    "\n",
    "Backward propagation is when we move in the opposite direction, towards the input layer, i.e. the output of a hidden layer or the output layer itself is used as the input in a previous layer. This is done to update weights and reduce loss."
   ]
  },
  {
   "cell_type": "markdown",
   "metadata": {
    "id": "DSmf-dWWKKVL"
   },
   "source": [
    "Q21. Explain the working flow of ANN and CNN?\n",
    "\n",
    "Ans. ANN consists of input layer, hidden layers, activation functions, bias, weights and output layer.\n",
    "\n",
    "We start from the input layer, that adds all the inputs multiplied by their weights, adds the bias and uses the activation function to produce an output which goes on to the next layer, and so on, until we reach the final output layer. During this process we also update weights to reduce loss.\n",
    "\n",
    "CNN consists of an input image, that goes through optional padding. Then several rounds (as required) of convolution, and pooling happen along with filters, to produce a fully connected layer. Then the output produced is flattened. This flattened image is used as input to the fully connected layer to produce a final output which could be a classification of the original image."
   ]
  },
  {
   "cell_type": "markdown",
   "metadata": {
    "id": "hBf3co35MkBv"
   },
   "source": [
    "Q22. What is the use of activation function and optimizers?\n",
    "\n",
    "Ans. Activation Function: Activation functions are used in neural networks to introduce non-linearity to the model. They decide whether a neuron should be activated (fired) or not based on the input. Activation functions help the neural network learn complex patterns and relationships in the data, making it capable of solving more sophisticated problems.\n",
    "\n",
    "Optimizers: Optimizers are algorithms used in training neural networks to minimize the error and improve the model's performance. They adjust the model's parameters (weights and biases) during the training process to find the best combination that minimizes the difference between predicted and actual values. Optimizers play a vital role in speeding up convergence and ensuring the neural network learns efficiently. They help in finding the global or local minimum of the loss function, which indicates the best possible fit for the data."
   ]
  },
  {
   "cell_type": "markdown",
   "metadata": {
    "id": "wzmJ_MopNCoM"
   },
   "source": [
    "Q23. What is the difference between R square and adjusted Rsquare?\n",
    "\n",
    "Ans. In short and simple words:\n",
    "\n",
    "R-squared (R²) is a statistical measure that represents the proportion of variance in the dependent variable explained by the independent variables in a regression model. It tells us how well the model fits the data.\n",
    "\n",
    "Adjusted R-squared (adjusted R²) is a modification of R-squared that accounts for the number of independent variables in the model. It penalizes the addition of unnecessary variables, helping to prevent overfitting. Adjusted R-squared increases only if the additional variable improves the model more than would be expected by chance. It provides a more accurate assessment of the model's goodness of fit when there are multiple independent variables."
   ]
  },
  {
   "cell_type": "markdown",
   "metadata": {
    "id": "ffgKj8bIOEan"
   },
   "source": [
    "Q24. What do you mean by LSTM in RNN?\n",
    "\n",
    "Ans.LSTM stands for Long Short-Term Memory, and it is a type of Recurrent Neural Network (RNN) architecture. In simple words, LSTM is designed to handle long sequences of data and retain important information over time. It is particularly useful for tasks that involve analyzing and making predictions based on sequences of data, such as natural language processing, speech recognition, and time series forecasting. LSTM's unique design allows it to effectively capture dependencies and patterns in sequential data, making it a powerful tool for handling time-based information in machine learning and artificial intelligence applications"
   ]
  },
  {
   "cell_type": "markdown",
   "metadata": {
    "id": "NEbCmvh_Oqwb"
   },
   "source": [
    "Q25. What is the use of image processing?\n",
    "\n",
    "Ans. Image processing is used to analyze, modify, and enhance digital images. It helps in tasks like recognizing objects, improving image quality, compressing images for storage and transmission, and enabling applications in fields like medical imaging, surveillance, and computer vision. In simple terms, it allows computers to understand and work with images, making it a valuable tool in various industries and applications."
   ]
  },
  {
   "cell_type": "markdown",
   "metadata": {
    "id": "gq-1uzn4PJZi"
   },
   "source": [
    "Q26. What are the steps involved in NLP?\n",
    "\n",
    "Ans. The steps involved in natural language processing are:\n",
    "\n",
    "1. Lexical analysis\n",
    "2. Syntactical analysis\n",
    "3. Semantic analysis\n",
    "4. Discourse integration\n",
    "5. Pragmatic analysis"
   ]
  },
  {
   "cell_type": "markdown",
   "metadata": {
    "id": "VHOxjapmPiGD"
   },
   "source": [
    "Q27. What do you mean by bias and variance?\n",
    "\n",
    "Ans. Bias is the model error that happens due to under fitting, or not viewing the data enough times to draw correct patterns from it.\n",
    "\n",
    "Variance on the other hand happens with over fitting, when the data is viewed too many times and results in the model being very accurate with the training data but failing with new data."
   ]
  },
  {
   "cell_type": "markdown",
   "metadata": {
    "id": "qzu7QZOvQjdg"
   },
   "source": [
    "Q28. What are the steps involved in machine learning to create model?\n",
    "\n",
    "Ans.Creating a machine learning model involves several essential steps to ensure its effectiveness and accuracy. Here are the main steps involved in building a machine learning model:\n",
    "\n",
    "1.Data Collection: Gather relevant data from various sources, which will be used to train and evaluate the model.\n",
    "\n",
    "2.Data Preprocessing: Clean, transform, and prepare the data for training. This involves handling missing values, scaling features, and converting categorical variables into numerical representations.\n",
    "\n",
    "3.Feature Engineering: Select or create the most relevant features from the data that will have the most significant impact on the model's performance.\n",
    "\n",
    "4.Splitting Data: Divide the data into two parts: a training set (used to train the model) and a test set (used to evaluate the model's performance).\n",
    "\n",
    "5.Choosing a Model: Select the appropriate machine learning algorithm or model that best suits the nature of the problem and the type of data.\n",
    "\n",
    "6.Training the Model: Use the training set to teach the model to recognize patterns and relationships in the data.\n",
    "\n",
    "7.Model Evaluation: Assess the model's performance on the test set to measure how well it generalizes to unseen data.\n",
    "\n",
    "8.Hyperparameter Tuning: Fine-tune the model by adjusting hyperparameters to optimize its performance.\n",
    "\n",
    "9.Model Deployment: Once the model performs well, deploy it to make predictions on new, real-world data.\n",
    "\n",
    "10.Monitoring and Maintenance: Continuously monitor the model's performance and update it as necessary to ensure it remains accurate and relevant over time.\n",
    "\n"
   ]
  }
 ],
 "metadata": {
  "colab": {
   "provenance": []
  },
  "kernelspec": {
   "display_name": "Python 3 (ipykernel)",
   "language": "python",
   "name": "python3"
  },
  "language_info": {
   "codemirror_mode": {
    "name": "ipython",
    "version": 3
   },
   "file_extension": ".py",
   "mimetype": "text/x-python",
   "name": "python",
   "nbconvert_exporter": "python",
   "pygments_lexer": "ipython3",
   "version": "3.11.4"
  }
 },
 "nbformat": 4,
 "nbformat_minor": 1
}
